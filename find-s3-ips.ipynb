import requests
import json

# 下載JSON數據
url = "https://ip-ranges.amazonaws.com/ip-ranges.json"
response = requests.get(url)
data = response.json()

# 提取符合條件的IP前綴
ip_prefixes = []
for entry in data["prefixes"]:
    if entry["service"] == "S3":
        ip_prefixes.append(entry["ip_prefix"])
        

# 輸出結果
for prefix in ip_prefixes:
    print(prefix+',')
    
